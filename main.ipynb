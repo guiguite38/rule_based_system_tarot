{
 "metadata": {
  "language_info": {
   "codemirror_mode": {
    "name": "ipython",
    "version": 3
   },
   "file_extension": ".py",
   "mimetype": "text/x-python",
   "name": "python",
   "nbconvert_exporter": "python",
   "pygments_lexer": "ipython3",
   "version": "3.8.0-final"
  },
  "orig_nbformat": 2,
  "kernelspec": {
   "name": "python3",
   "display_name": "Python 3",
   "language": "python"
  }
 },
 "nbformat": 4,
 "nbformat_minor": 2,
 "cells": [
  {
   "cell_type": "code",
   "execution_count": 21,
   "metadata": {},
   "outputs": [],
   "source": [
    "from tarot_lib import *\n",
    "import player\n",
    "import game\n",
    "import tricks"
   ]
  },
  {
   "cell_type": "code",
   "execution_count": 23,
   "metadata": {},
   "outputs": [
    {
     "output_type": "stream",
     "name": "stdout",
     "text": [
      "[Game.TEST] bids are ['PASS', 'PASS', 'PASS', 'TAKE']\n[Game.TEST] TAKER estimated win factor is : 0.995 (max expected is around 1.25, below 1 is more risky)\n[Game.TEST] displaying roles ['RELAUNCHER', 'NEUTRAL', 'OPENER', 'TAKER']\n[Game.incorporate_dog] Color D chosen for ecart of type [CUT or KING CINGLETTE]: ['D8']\n[Game.incorporate_dog] Second color C was chosen for ecart [CUT or KING CINGLETTE] : ['C3', 'CK', 'C9']\n[Game.incorporate_dog] card S5 was picked RANDOMLY to complete the ecart\n[Game.incorporate_dog] card S4 was picked RANDOMLY to complete the ecart\n[Game.incorporate_dog] card S3 was picked RANDOMLY to complete the ecart\n[Game.TEST] TAKER has elected ecart=['C3', 'C9', 'D8', 'S3', 'S4', 'S5']\n[Game.TEST] TAKER hand is [0, 1, 2, 7, 12, 15, 19, 'H3', 'H6', 'H7', 'HQ', 'HK', 'CK', 'S1', 'S2', 'SJ', 'SQ', 'SK']\n\n[Game.play_trick] === NEW TRICK ===\n"
     ]
    },
    {
     "output_type": "error",
     "ename": "NameError",
     "evalue": "name 'taker_id' is not defined",
     "traceback": [
      "\u001b[1;31m---------------------------------------------------------------------------\u001b[0m",
      "\u001b[1;31mNameError\u001b[0m                                 Traceback (most recent call last)",
      "\u001b[1;32m<ipython-input-23-ce17846a07e1>\u001b[0m in \u001b[0;36m<module>\u001b[1;34m\u001b[0m\n\u001b[0;32m     21\u001b[0m \u001b[1;33m\u001b[0m\u001b[0m\n\u001b[0;32m     22\u001b[0m     \u001b[1;32mfor\u001b[0m \u001b[0mi\u001b[0m \u001b[1;32min\u001b[0m \u001b[0mrange\u001b[0m\u001b[1;33m(\u001b[0m\u001b[1;36m18\u001b[0m\u001b[1;33m)\u001b[0m\u001b[1;33m:\u001b[0m\u001b[1;33m\u001b[0m\u001b[1;33m\u001b[0m\u001b[0m\n\u001b[1;32m---> 23\u001b[1;33m         \u001b[0mmyGame\u001b[0m\u001b[1;33m.\u001b[0m\u001b[0mplay_trick\u001b[0m\u001b[1;33m(\u001b[0m\u001b[1;33m)\u001b[0m\u001b[1;33m\u001b[0m\u001b[1;33m\u001b[0m\u001b[0m\n\u001b[0m\u001b[0;32m     24\u001b[0m     \u001b[1;31m# myGame.tricks.to_string()\u001b[0m\u001b[1;33m\u001b[0m\u001b[1;33m\u001b[0m\u001b[1;33m\u001b[0m\u001b[0m\n\u001b[0;32m     25\u001b[0m     \u001b[0mscore\u001b[0m\u001b[1;33m,\u001b[0m\u001b[0mcontract\u001b[0m\u001b[1;33m=\u001b[0m\u001b[0mmyGame\u001b[0m\u001b[1;33m.\u001b[0m\u001b[0mtricks\u001b[0m\u001b[1;33m.\u001b[0m\u001b[0mcompute_final_score\u001b[0m\u001b[1;33m(\u001b[0m\u001b[0mmyGame\u001b[0m\u001b[1;33m.\u001b[0m\u001b[0mecart\u001b[0m\u001b[1;33m)\u001b[0m\u001b[1;33m\u001b[0m\u001b[1;33m\u001b[0m\u001b[0m\n",
      "\u001b[1;32mc:\\Users\\User\\Documents\\ENSC\\3A\\rule_based_system_tarot\\game.py\u001b[0m in \u001b[0;36mplay_trick\u001b[1;34m(self)\u001b[0m\n\u001b[0;32m    204\u001b[0m                     \u001b[0mself\u001b[0m\u001b[1;33m.\u001b[0m\u001b[0mfirst_player\u001b[0m \u001b[1;33m=\u001b[0m \u001b[0mself\u001b[0m\u001b[1;33m.\u001b[0m\u001b[0mplayers\u001b[0m\u001b[1;33m.\u001b[0m\u001b[0mindex\u001b[0m\u001b[1;33m(\u001b[0m\u001b[0mplayer\u001b[0m\u001b[1;33m)\u001b[0m\u001b[1;33m\u001b[0m\u001b[1;33m\u001b[0m\u001b[0m\n\u001b[0;32m    205\u001b[0m                     \u001b[0mprint\u001b[0m\u001b[1;33m(\u001b[0m\u001b[1;34mf'[Game.play_trick] Next first player should be {self.players[self.first_player].role}'\u001b[0m\u001b[1;33m)\u001b[0m\u001b[1;33m\u001b[0m\u001b[1;33m\u001b[0m\u001b[0m\n\u001b[1;32m--> 206\u001b[1;33m \u001b[1;33m\u001b[0m\u001b[0m\n\u001b[0m\u001b[0;32m    207\u001b[0m         \u001b[0mprint\u001b[0m\u001b[1;33m(\u001b[0m\u001b[1;34m\"\\n[Game.play_trick] === NEW TRICK ===\"\u001b[0m\u001b[1;33m)\u001b[0m\u001b[1;33m\u001b[0m\u001b[1;33m\u001b[0m\u001b[0m\n\u001b[0;32m    208\u001b[0m         \u001b[1;32mfor\u001b[0m \u001b[0mi\u001b[0m \u001b[1;32min\u001b[0m \u001b[0mrange\u001b[0m\u001b[1;33m(\u001b[0m\u001b[1;36m4\u001b[0m\u001b[1;33m)\u001b[0m\u001b[1;33m:\u001b[0m\u001b[1;33m\u001b[0m\u001b[1;33m\u001b[0m\u001b[0m\n",
      "\u001b[1;31mNameError\u001b[0m: name 'taker_id' is not defined"
     ]
    }
   ],
   "source": [
    "### TESTS ###\n",
    "myGame = game.Game()\n",
    "bids = myGame.bid()\n",
    "print(f\"[Game.TEST] bids are {bids[1]}\")\n",
    "\n",
    "if bids[1].count('PASS')!=4:\n",
    "    for player in myGame.players:\n",
    "        if player.role is 'TAKER':\n",
    "            myGame.taker_id=myGame.players.index(player)\n",
    "            print(f\"[Game.TEST] TAKER estimated win factor is : {myGame.estimate_win_factor(player.hand)} (max expected is around 1.25, below 1 is more risky)\")\n",
    "            # print(f\"[Game.__init__]found {player.role}, id is {self.taker_id}\")\n",
    "    print(f\"[Game.TEST] displaying roles {[player.role for player in myGame.players]}\")\n",
    "\n",
    "    myGame.incorporate_dog(myGame.players[myGame.taker_id])\n",
    "    sort_cards(myGame.ecart)\n",
    "    if myGame.contract not in ['GUARD WITHOUT','GUARD AGAINST']:\n",
    "        print(f\"[Game.TEST] TAKER has elected ecart={myGame.ecart}\")\n",
    "    myTakerHand=myGame.players[myGame.taker_id].hand\n",
    "    sort_cards(myTakerHand)\n",
    "    print(f\"[Game.TEST] TAKER hand is {myTakerHand}\")\n",
    "\n",
    "    for i in range(18):\n",
    "        myGame.play_trick()\n",
    "    # myGame.tricks.to_string()\n",
    "    score,contract=myGame.tricks.compute_final_score(myGame.ecart)\n",
    "    print(f'\\nTaker final score is {score} with contract {contract}')\n",
    "    if score>=contract:\n",
    "        print('Taker wins !')\n",
    "    else:\n",
    "        print('Defense wins !')\n",
    "# print(player.role for player in myGame.players)"
   ]
  }
 ]
}