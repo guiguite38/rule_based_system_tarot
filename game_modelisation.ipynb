{
 "metadata": {
  "language_info": {
   "codemirror_mode": {
    "name": "ipython",
    "version": 3
   },
   "file_extension": ".py",
   "mimetype": "text/x-python",
   "name": "python",
   "nbconvert_exporter": "python",
   "pygments_lexer": "ipython3",
   "version": "3.8.0-final"
  },
  "orig_nbformat": 2,
  "kernelspec": {
   "name": "python3",
   "display_name": "Python 3"
  }
 },
 "nbformat": 4,
 "nbformat_minor": 2,
 "cells": [
  {
   "source": [
    "# Rule Based System applied to Tarot"
   ],
   "cell_type": "markdown",
   "metadata": {}
  },
  {
   "source": [
    "### Imports"
   ],
   "cell_type": "markdown",
   "metadata": {}
  },
  {
   "cell_type": "code",
   "execution_count": 31,
   "metadata": {},
   "outputs": [],
   "source": [
    "import random"
   ]
  },
  {
   "source": [
    "## Game Modelisation"
   ],
   "cell_type": "markdown",
   "metadata": {}
  },
  {
   "source": [
    "Are needed :\n",
    "- trump cards + the fool + oudlers\n",
    "- figures = King, Queen, Paladin, Jack\n",
    "- whiteskins = 1 to 10\n",
    "- the dog (neither first 3 nor last but not important here)\n",
    "- colors = hearts, clubs, diamonds and spades\n",
    "- Hand\n",
    "- taker\n",
    "\n",
    "\n",
    "Steps :\n",
    "- Dealing\n",
    "- Biding\n",
    "- Handful\n",
    "- Play of the card"
   ],
   "cell_type": "markdown",
   "metadata": {}
  },
  {
   "source": [
    "## Cards Definition"
   ],
   "cell_type": "markdown",
   "metadata": {}
  },
  {
   "cell_type": "code",
   "execution_count": 338,
   "metadata": {},
   "outputs": [
    {
     "output_type": "execute_result",
     "data": {
      "text/plain": [
       "18"
      ]
     },
     "metadata": {},
     "execution_count": 338
    }
   ],
   "source": [
    "FIGURES = ['J','P','Q','K']\n",
    "FIGURES_NAMES = [\"Jack\",\"Knight\",\"Queen\",\"King\"]\n",
    "NON_FIGURES = ['1','2','3','4','5','6','7','8','9','10']\n",
    "CARD_VALUES = non_figures + figures\n",
    "\n",
    "COLOR_VALUES = [ 'H', 'C', 'D', 'S']\n",
    "COLOR_NAMES = [\"Hearts\",\"Clubs\",\"Diamonds\",\"Spades\"]\n",
    "\n",
    "TRUMPS = [ i for i in range(1,22)] + ['F']\n",
    "OUDLERS = [1, 21, 'F']\n",
    "\n",
    "COLOR_CARDS = [ COLOR_VALUES[j]+str(CARD_VALUES[i]) for j in range(4) for i in range(len(CARD_VALUES))]\n",
    "\n",
    "PLAYING_CARDS = TRUMPS + COLOR_CARDS\n",
    "PLAYING_CARDS"
   ]
  },
  {
   "source": [
    "## Cards Recognition"
   ],
   "cell_type": "markdown",
   "metadata": {}
  },
  {
   "cell_type": "code",
   "execution_count": 236,
   "metadata": {},
   "outputs": [
    {
     "output_type": "stream",
     "name": "stdout",
     "text": [
      "22\n"
     ]
    }
   ],
   "source": [
    "def get_card_value(card):\n",
    "    # TODO : check else clause validity\n",
    "    return card[1:] if card not in TRUMPS else card\n",
    "\n",
    "def is_figure(card):\n",
    "    return get_card_value(card) in FIGURES\n",
    "\n",
    "def is_non_figure(card):\n",
    "    return get_card_value(card) in NON_FIGURES\n",
    "\n",
    "def is_trump(card):\n",
    "    return type(card) is int or card is 'F'\n",
    "\n",
    "def is_oudler(card):\n",
    "    return card in OULDERS\n",
    "\n",
    "### TESTS ###\n",
    "get_card_value(PLAYING_CARDS[77])\n",
    "is_trump(PLAYING_CARDS[22])\n",
    "mylist=[1 for card in playing_cards if is_trump(card)]\n",
    "print(sum(mylist))\n",
    "\n",
    "for i in range(len(PLAYING_CARDS)):\n",
    "    to_string(PLAYING_CARDS[i])"
   ]
  },
  {
   "source": [
    "## Dealing"
   ],
   "cell_type": "markdown",
   "metadata": {}
  },
  {
   "cell_type": "code",
   "execution_count": 243,
   "metadata": {},
   "outputs": [],
   "source": [
    "def deal():\n",
    "    '''\n",
    "    Returns 5 args : 4 hands of 18 cards + dog\n",
    "    '''\n",
    "    deck = PLAYING_CARDS.copy()\n",
    "    random.shuffle(deck)\n",
    "    return [deck[0:18],deck[18:36],deck[36:54],deck[54:72],deck[72:78]]"
   ]
  },
  {
   "source": [
    "## Hand Management : Sorting, Showing, Information"
   ],
   "cell_type": "markdown",
   "metadata": {}
  },
  {
   "cell_type": "code",
   "execution_count": 244,
   "metadata": {},
   "outputs": [
    {
     "output_type": "stream",
     "name": "stdout",
     "text": [
      "=== Showing hand 1 ===\nTrump 4\nTrump 9\nTrump 14\nTrump 17\nTrump 20\nHearts 3\nHearts 5\nHearts 8\nHearts 9\nHearts Jack\nClubs 4\nClubs 5\nDiamonds 3\nDiamonds 5\nDiamonds 8\nSpades 5\nSpades 10\nSpades King\n=== Showing hand 2 ===\nTrump 1\nTrump 7\nTrump 10\nTrump 13\nTrump 15\nTrump 21\nHearts 6\nHearts Queen\nHearts King\nClubs 3\nClubs 10\nClubs Queen\nDiamonds 1\nDiamonds 2\nDiamonds 7\nDiamonds 10\nSpades 8\nSpades 9\n=== Showing hand 3 ===\nTrump 6\nTrump 12\nTrump 16\nTrump 18\nHearts 1\nHearts 2\nHearts 4\nHearts Knight\nClubs 1\nClubs 2\nClubs 7\nDiamonds Jack\nDiamonds Knight\nSpades 1\nSpades 2\nSpades 3\nSpades 7\nSpades Knight\n=== Showing hand 4 ===\nTrump 2\nTrump 8\nTrump 11\nTrump 19\nTrump Fool\nHearts 7\nHearts 10\nClubs 6\nClubs 8\nClubs 9\nClubs Jack\nClubs Knight\nDiamonds 6\nDiamonds 9\nDiamonds King\nSpades 4\nSpades 6\nSpades Jack\n"
     ]
    }
   ],
   "source": [
    "def get_index(card):\n",
    "    return PLAYING_CARDS.index(card)\n",
    "\n",
    "def sort_cards(hand):\n",
    "    return hand.sort(key=get_index)\n",
    "\n",
    "def to_string(card):\n",
    "    if is_trump(card):\n",
    "        if card is not 'F':\n",
    "            return(f\"Trump {card}\")\n",
    "        else:\n",
    "            return(f\"Trump Fool\")\n",
    "    else:\n",
    "        return(f\"{COLOR_NAMES[COLOR_VALUES.index(card[0])]} {FIGURES_NAMES[FIGURES.index(card[1:])] if is_figure(card) else card[1:]}\")\n",
    "\n",
    "def show_cards(cards):\n",
    "    for card in cards:\n",
    "        print(to_string(card))\n",
    "\n",
    "def get_trump_count(hand):\n",
    "    return sum([1 for card in hand if is_trump(card)])\n",
    "\n",
    "### TESTS ###\n",
    "for i in range(4):\n",
    "    print(f\"=== Showing hand {i+1} ===\")\n",
    "    sort_cards(hands[i])\n",
    "    show_cards(hands[i])"
   ]
  },
  {
   "source": [
    "## Biding"
   ],
   "cell_type": "markdown",
   "metadata": {}
  },
  {
   "cell_type": "code",
   "execution_count": 376,
   "metadata": {},
   "outputs": [
    {
     "output_type": "stream",
     "name": "stdout",
     "text": [
      "score_param : 0.28431372549019607, trump_param : 0.8590909090909091\nnb_trumps_factor : 1.2727272727272727, mean_trumps_factor : 1.35\nhand 0 has contract 51 with win factor 1.1434046345811053\nActual score is 19.0 and trump count is 6\n\nhand 1 has contract 51 with win factor 0.8599331550802138\nActual score is 17.0 and trump count is 5\n\nhand 2 has contract 51 with win factor 0.8972482174688058\nActual score is 22.0 and trump count is 4\n\nhand 3 has contract 56 with win factor 0.9317207792207791\nActual score is 27.0 and trump count is 5\n\nscore_param : 0.28431372549019607, trump_param : 0.8590909090909091\nnb_trumps_factor : 1.2727272727272727, mean_trumps_factor : 1.35\n=== Player 0 hand ===\nTrump 13\nTrump 15\nTrump 16\nTrump 17\nTrump 20\nTrump 21\nHearts 4\nHearts 8\nHearts 9\nHearts 10\nClubs 8\nClubs Knight\nDiamonds 4\nDiamonds 5\nDiamonds Queen\nSpades 3\nSpades 8\nSpades Jack\n"
     ]
    }
   ],
   "source": [
    "CONTRACTS = [56,51,41,36]\n",
    "POINTS = [1.5,2.5,3.5,4.5]\n",
    "\n",
    "def get_card_points(card):\n",
    "    if is_trump(card):        \n",
    "        return 4.5 if card in OUDLERS else .5\n",
    "    else:\n",
    "        return .5 if card[1] in NON_FIGURES else POINTS[FIGURES.index(card[1])]\n",
    "\n",
    "def compute_score(cards):\n",
    "    return sum(get_card_points(card) for card in cards)\n",
    "\n",
    "def get_contract(hand):\n",
    "    return CONTRACTS[sum([1 for card in hand if is_oudler(card)])]\n",
    "\n",
    "def estimate_win_factor(hand):\n",
    "    '''\n",
    "    2 essential params : number of trump cards + actual score\n",
    "    each has .5 potential influence -> the closest to 1, the higher the chances of victory\n",
    "    '''\n",
    "    # compare actual points vs needed\n",
    "    # TODO : avoid taking with score > 30 points gap (negative)\n",
    "    score_param = .5 * (1 + (compute_score(hand) + 10 - get_contract(hand)) / get_contract(hand))\n",
    "    \n",
    "    # ratio of actual trump count VS mean    \n",
    "    trump_mean = 0 if get_trump_count(hand)==0 else sum([10 if card is 'F' else card for card in hand if is_trump(card)]) / get_trump_count(hand)\n",
    "    # 2 factors : nb_trumps & mean_trumps\n",
    "    # nb_trumps_factor = 1 + (get_trump_count(hand)-(22/4))/10\n",
    "    nb_trumps_factor = 1 + (get_trump_count(hand)/(22/4))/4\n",
    "    mean_trumps_factor = 1 + (trump_mean-10) / 20\n",
    "    trump_param = .5 * nb_trumps_factor * mean_trumps_factor\n",
    "\n",
    "    if score_param + trump_param > 1:\n",
    "        print(f\"score_param : {score_param}, trump_param : {trump_param}\\nnb_trumps_factor : {nb_trumps_factor}, mean_trumps_factor : {mean_trumps_factor}\")\n",
    "    return (score_param + trump_param)\n",
    "\n",
    "\n",
    "### TESTS ###\n",
    "# for card in PLAYING_CARDS:\n",
    "#     print(f\"{to_string(card)} : {get_card_points(card)}\")\n",
    "\n",
    "hand1,hand2,hand3,hand4,dog=deal()\n",
    "hands = [hand1,hand2,hand3,hand4]\n",
    "\n",
    "for i in range(4):\n",
    "    print(f\"hand {i} has contract {get_contract(hands[i])} with win factor {estimate_win_factor(hands[i])}\")\n",
    "    print(f\"Actual score is {compute_score(hands[i])} and trump count is {get_trump_count(hands[i])}\\n\")\n",
    "\n",
    "for i in range(4):\n",
    "    if estimate_win_factor(hands[i]) > 1:\n",
    "        print(f\"=== Player {i} hand ===\")\n",
    "        sort_cards(hands[i])\n",
    "        show_cards(hands[i])"
   ]
  },
  {
   "cell_type": "code",
   "execution_count": 327,
   "metadata": {},
   "outputs": [
    {
     "output_type": "stream",
     "name": "stdout",
     "text": [
      "Trump 1\nTrump 2\nTrump 5\nTrump 6\nTrump 15\nTrump 17\nTrump 21\nHearts 7\nHearts 9\nHearts 10\nHearts Knight\nClubs 9\nDiamonds 8\nDiamonds 10\nSpades 3\nSpades 7\nSpades 10\nSpades Queen\n"
     ]
    }
   ],
   "source": [
    "sort_cards(hands[3])\n",
    "show_cards(hands[3])"
   ]
  },
  {
   "cell_type": "code",
   "execution_count": 371,
   "metadata": {},
   "outputs": [
    {
     "output_type": "stream",
     "name": "stdout",
     "text": [
      "=== Player with good hand 1 hand ===\nscore : 0.6707317073170732, trump : 0.5838068181818182\nnb_trumps_factor : 1.3636363636363638, trump mean : 7.125, mean_trumps_factor : 0.85625\ngood hand 1 has contract 41 with win factor 1.2545385254988914\nActual score is 45.0 and trump count is 8\n\nTrump 1\nTrump 2\nTrump 3\nTrump 6\nTrump 7\nTrump 8\nTrump 9\nTrump 21\nHearts Jack\nHearts Knight\nHearts Queen\nHearts King\nClubs King\nDiamonds Jack\nDiamonds Knight\nDiamonds Queen\nDiamonds King\nSpades King\n"
     ]
    }
   ],
   "source": [
    "good_hand_1 = [1,2,3,6,7,8,9,21, 'HJ','HP','HQ','HK','DJ','DP','DQ','DK','CK','SK']\n",
    "\n",
    "print(f\"=== Player with good hand 1 hand ===\")\n",
    "print(f\"good hand 1 has contract {get_contract(good_hand_1)} with win factor {estimate_win_factor(good_hand_1)}\")\n",
    "print(f\"Actual score is {compute_score(good_hand_1)} and trump count is {get_trump_count(good_hand_1)}\\n\")\n",
    "sort_cards(good_hand_1)\n",
    "show_cards(good_hand_1)"
   ]
  },
  {
   "cell_type": "code",
   "execution_count": 370,
   "metadata": {},
   "outputs": [
    {
     "output_type": "stream",
     "name": "stdout",
     "text": [
      "=== Player with good hand 2 hand ===\nscore : 0.22549019607843135, trump : 0.8863636363636365\nnb_trumps_factor : 1.8181818181818183, trump mean : 9.5, mean_trumps_factor : 0.975\ngood hand 2 has contract 51 with win factor 1.1118538324420677\nActual score is 13.0 and trump count is 18\n\nTrump 1\nTrump 2\nTrump 3\nTrump 4\nTrump 5\nTrump 6\nTrump 7\nTrump 8\nTrump 9\nTrump 10\nTrump 11\nTrump 12\nTrump 13\nTrump 14\nTrump 15\nTrump 16\nTrump 17\nTrump 18\n"
     ]
    }
   ],
   "source": [
    "good_hand_2 = [1,2,3,4,5,6,7,8,9,10,11,12,13,14,15,16,17,18]\n",
    "\n",
    "print(f\"=== Player with good hand 2 hand ===\")\n",
    "print(f\"good hand 2 has contract {get_contract(good_hand_2)} with win factor {estimate_win_factor(good_hand_2)}\")\n",
    "print(f\"Actual score is {compute_score(good_hand_2)} and trump count is {get_trump_count(good_hand_2)}\\n\")\n",
    "sort_cards(good_hand_2)\n",
    "show_cards(good_hand_2)"
   ]
  }
 ]
}